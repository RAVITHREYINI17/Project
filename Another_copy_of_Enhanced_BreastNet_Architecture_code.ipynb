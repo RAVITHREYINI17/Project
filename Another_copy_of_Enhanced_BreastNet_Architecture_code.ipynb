{
  "nbformat": 4,
  "nbformat_minor": 0,
  "metadata": {
    "colab": {
      "provenance": [],
      "gpuType": "T4"
    },
    "kernelspec": {
      "name": "python3",
      "display_name": "Python 3"
    },
    "language_info": {
      "name": "python"
    },
    "accelerator": "GPU"
  },
  "cells": [
    {
      "cell_type": "code",
      "source": [
        "import tensorflow as tf\n",
        "from tensorflow.keras import layers, models, utils, applications\n",
        "from tensorflow.keras.preprocessing.image import ImageDataGenerator\n",
        "from pathlib import Path"
      ],
      "metadata": {
        "id": "p_SbqgeBWZdf"
      },
      "execution_count": null,
      "outputs": []
    },
    {
      "cell_type": "code",
      "source": [
        "from google.colab import drive\n",
        "drive.mount('/content/drive')"
      ],
      "metadata": {
        "id": "D4U9Crhf2yLZ",
        "colab": {
          "base_uri": "https://localhost:8080/"
        },
        "outputId": "7c6c96b9-5d27-4e52-e98c-a9d7bad5f5dc"
      },
      "execution_count": null,
      "outputs": [
        {
          "output_type": "stream",
          "name": "stdout",
          "text": [
            "Mounted at /content/drive\n"
          ]
        }
      ]
    },
    {
      "cell_type": "code",
      "execution_count": null,
      "metadata": {
        "id": "5semslrn_WAB",
        "colab": {
          "base_uri": "https://localhost:8080/"
        },
        "outputId": "1ce927b7-ffdd-41f7-f7b1-10b6ff3c6e7f"
      },
      "outputs": [
        {
          "output_type": "stream",
          "name": "stdout",
          "text": [
            "Found 1271 images belonging to 3 classes.\n",
            "Found 317 images belonging to 3 classes.\n",
            "Class indices: {'benign': 0, 'malignant': 1, 'normal': 2}\n"
          ]
        }
      ],
      "source": [
        "# Define the base directory and categories\n",
        "base_dir = Path(\"/content/drive/MyDrive/DATASET_BC\")\n",
        "categories = ['normal', 'benign', 'malignant']\n",
        "\n",
        "# Set the input image size and batch size\n",
        "input_shape = (224, 224, 3)\n",
        "batch_size = 32\n",
        "num_classes = len(categories)\n",
        "\n",
        "# Create ImageDataGenerators for training and validation\n",
        "datagen = ImageDataGenerator(\n",
        "    rescale=1./255,\n",
        "    validation_split=0.2  # Splitting 20% of the data for validation\n",
        ")\n",
        "\n",
        "train_generator = datagen.flow_from_directory(\n",
        "    base_dir,\n",
        "    target_size=(224, 224),  # Ensure images are resized to match the input size\n",
        "    batch_size=batch_size,\n",
        "    class_mode='categorical',\n",
        "    subset='training'\n",
        ")\n",
        "\n",
        "validation_generator = datagen.flow_from_directory(\n",
        "    base_dir,\n",
        "    target_size=(224, 224),\n",
        "    batch_size=batch_size,\n",
        "    class_mode='categorical',\n",
        "    subset='validation'\n",
        ")\n",
        "\n",
        "# Print class names to ensure proper categorization\n",
        "print(\"Class indices:\", train_generator.class_indices)\n"
      ]
    },
    {
      "cell_type": "code",
      "source": [
        "def build_alexnet(input_shape=(224, 224, 3), num_classes=3):\n",
        "    model = models.Sequential([\n",
        "        layers.Conv2D(96, (11, 11), strides=4, activation='relu', input_shape=input_shape),\n",
        "        layers.MaxPooling2D(pool_size=(3, 3), strides=2),\n",
        "        layers.Conv2D(256, (5, 5), padding='same', activation='relu'),\n",
        "        layers.MaxPooling2D(pool_size=(3, 3), strides=2),\n",
        "        layers.Conv2D(384, (3, 3), padding='same', activation='relu'),\n",
        "        layers.Conv2D(384, (3, 3), padding='same', activation='relu'),\n",
        "        layers.Conv2D(256, (3, 3), padding='same', activation='relu'),\n",
        "        layers.MaxPooling2D(pool_size=(3, 3), strides=2),\n",
        "        layers.Flatten(),\n",
        "        layers.Dense(4096, activation='relu'),\n",
        "        layers.Dropout(0.5),\n",
        "        layers.Dense(4096, activation='relu'),\n",
        "        layers.Dropout(0.5),\n",
        "        layers.Dense(num_classes, activation='softmax')  # Changed to match your dataset\n",
        "    ])\n",
        "    return model\n",
        "def build_googlenet(input_shape=(224, 224, 3), num_classes=3):\n",
        "    input_img = layers.Input(shape=input_shape)\n",
        "\n",
        "    # Convolutional Layer\n",
        "    x = layers.Conv2D(64, (7, 7), strides=2, padding='same', activation='relu')(input_img)\n",
        "    x = layers.MaxPooling2D(pool_size=(3, 3), strides=2, padding='same')(x)\n",
        "\n",
        "    # Add more layers as per requirement\n",
        "\n",
        "    x = layers.GlobalAveragePooling2D()(x)\n",
        "    output = layers.Dense(num_classes, activation='softmax')(x)  # Changed to match your dataset\n",
        "\n",
        "    model = models.Model(inputs=input_img, outputs=output)\n",
        "    return model\n"
      ],
      "metadata": {
        "id": "ilDolXLw3BuB"
      },
      "execution_count": null,
      "outputs": []
    },
    {
      "cell_type": "code",
      "source": [
        "def load_pretrained_models(input_shape=(224, 224, 3), num_classes=3):\n",
        "    models_dict = {\n",
        "        \"AlexNet\": build_alexnet(input_shape, num_classes),\n",
        "        \"GoogLeNet\": build_googlenet(input_shape, num_classes),\n",
        "        \"ShuffleNet\": applications.MobileNet(input_shape=input_shape, weights=None, classes=num_classes),\n",
        "        \"ResNet-50\": applications.ResNet50(input_shape=input_shape, weights=None, classes=num_classes),\n",
        "        \"SqueezeNet\": applications.MobileNetV2(input_shape=input_shape, weights=None, classes=num_classes),\n",
        "        # \"ResNet-18\": applications.ResNet18(input_shape=input_shape, weights=None, classes=num_classes),\n",
        "        \"ResNet-101\": applications.ResNet101(input_shape=input_shape, weights=None, classes=num_classes),\n",
        "        \"XceptionNet\": applications.Xception(input_shape=input_shape, weights=None, classes=num_classes)\n",
        "    }\n",
        "    return models_dict\n",
        "\n",
        "# Train and evaluate the models\n",
        "models_dict = load_pretrained_models()\n",
        "\n",
        "for name, model in models_dict.items():\n",
        "    print(f\"Training {name}...\")\n",
        "    model.compile(optimizer='adam', loss='categorical_crossentropy', metrics=['accuracy'])\n",
        "    model.fit(train_generator, epochs=10, validation_data=validation_generator, verbose=1)\n",
        "    test_loss, test_accuracy = model.evaluate(validation_generator)\n",
        "    print(f\"{name} Test accuracy: {test_accuracy}\\n\")\n"
      ],
      "metadata": {
        "id": "zY7-1Aji1S-z",
        "colab": {
          "base_uri": "https://localhost:8080/"
        },
        "outputId": "84237fe5-b4f2-463c-89d3-54d21a389c24"
      },
      "execution_count": null,
      "outputs": [
        {
          "output_type": "stream",
          "name": "stderr",
          "text": [
            "/usr/local/lib/python3.10/dist-packages/keras/src/layers/convolutional/base_conv.py:107: UserWarning: Do not pass an `input_shape`/`input_dim` argument to a layer. When using Sequential models, prefer using an `Input(shape)` object as the first layer in the model instead.\n",
            "  super().__init__(activity_regularizer=activity_regularizer, **kwargs)\n"
          ]
        },
        {
          "output_type": "stream",
          "name": "stdout",
          "text": [
            "Training AlexNet...\n",
            "Epoch 1/10\n"
          ]
        },
        {
          "output_type": "stream",
          "name": "stderr",
          "text": [
            "/usr/local/lib/python3.10/dist-packages/keras/src/trainers/data_adapters/py_dataset_adapter.py:121: UserWarning: Your `PyDataset` class should call `super().__init__(**kwargs)` in its constructor. `**kwargs` can include `workers`, `use_multiprocessing`, `max_queue_size`. Do not pass these arguments to `fit()`, as they will be ignored.\n",
            "  self._warn_if_super_not_called()\n"
          ]
        },
        {
          "output_type": "stream",
          "name": "stdout",
          "text": [
            "\u001b[1m40/40\u001b[0m \u001b[32m━━━━━━━━━━━━━━━━━━━━\u001b[0m\u001b[37m\u001b[0m \u001b[1m604s\u001b[0m 13s/step - accuracy: 0.4476 - loss: 2.6264 - val_accuracy: 0.6845 - val_loss: 0.7591\n",
            "Epoch 2/10\n",
            "\u001b[1m40/40\u001b[0m \u001b[32m━━━━━━━━━━━━━━━━━━━━\u001b[0m\u001b[37m\u001b[0m \u001b[1m14s\u001b[0m 313ms/step - accuracy: 0.6294 - loss: 0.8328 - val_accuracy: 0.6625 - val_loss: 0.7274\n",
            "Epoch 3/10\n",
            "\u001b[1m40/40\u001b[0m \u001b[32m━━━━━━━━━━━━━━━━━━━━\u001b[0m\u001b[37m\u001b[0m \u001b[1m20s\u001b[0m 317ms/step - accuracy: 0.6841 - loss: 0.7209 - val_accuracy: 0.6972 - val_loss: 0.7281\n",
            "Epoch 4/10\n",
            "\u001b[1m40/40\u001b[0m \u001b[32m━━━━━━━━━━━━━━━━━━━━\u001b[0m\u001b[37m\u001b[0m \u001b[1m21s\u001b[0m 314ms/step - accuracy: 0.6721 - loss: 0.7181 - val_accuracy: 0.6845 - val_loss: 0.6741\n",
            "Epoch 5/10\n",
            "\u001b[1m40/40\u001b[0m \u001b[32m━━━━━━━━━━━━━━━━━━━━\u001b[0m\u001b[37m\u001b[0m \u001b[1m14s\u001b[0m 306ms/step - accuracy: 0.6881 - loss: 0.6256 - val_accuracy: 0.7098 - val_loss: 0.6363\n",
            "Epoch 6/10\n",
            "\u001b[1m40/40\u001b[0m \u001b[32m━━━━━━━━━━━━━━━━━━━━\u001b[0m\u001b[37m\u001b[0m \u001b[1m14s\u001b[0m 307ms/step - accuracy: 0.7187 - loss: 0.6054 - val_accuracy: 0.6909 - val_loss: 0.6358\n",
            "Epoch 7/10\n",
            "\u001b[1m40/40\u001b[0m \u001b[32m━━━━━━━━━━━━━━━━━━━━\u001b[0m\u001b[37m\u001b[0m \u001b[1m15s\u001b[0m 307ms/step - accuracy: 0.7406 - loss: 0.5797 - val_accuracy: 0.6845 - val_loss: 0.8597\n",
            "Epoch 8/10\n",
            "\u001b[1m40/40\u001b[0m \u001b[32m━━━━━━━━━━━━━━━━━━━━\u001b[0m\u001b[37m\u001b[0m \u001b[1m20s\u001b[0m 321ms/step - accuracy: 0.7946 - loss: 0.4840 - val_accuracy: 0.7350 - val_loss: 0.5807\n",
            "Epoch 9/10\n",
            "\u001b[1m40/40\u001b[0m \u001b[32m━━━━━━━━━━━━━━━━━━━━\u001b[0m\u001b[37m\u001b[0m \u001b[1m16s\u001b[0m 345ms/step - accuracy: 0.7960 - loss: 0.4820 - val_accuracy: 0.7634 - val_loss: 0.5564\n",
            "Epoch 10/10\n",
            "\u001b[1m40/40\u001b[0m \u001b[32m━━━━━━━━━━━━━━━━━━━━\u001b[0m\u001b[37m\u001b[0m \u001b[1m19s\u001b[0m 312ms/step - accuracy: 0.8350 - loss: 0.4158 - val_accuracy: 0.7539 - val_loss: 0.5713\n",
            "\u001b[1m10/10\u001b[0m \u001b[32m━━━━━━━━━━━━━━━━━━━━\u001b[0m\u001b[37m\u001b[0m \u001b[1m3s\u001b[0m 344ms/step - accuracy: 0.7190 - loss: 0.6689\n",
            "AlexNet Test accuracy: 0.7539432048797607\n",
            "\n",
            "Training GoogLeNet...\n",
            "Epoch 1/10\n",
            "\u001b[1m40/40\u001b[0m \u001b[32m━━━━━━━━━━━━━━━━━━━━\u001b[0m\u001b[37m\u001b[0m \u001b[1m19s\u001b[0m 376ms/step - accuracy: 0.5152 - loss: 1.0229 - val_accuracy: 0.5615 - val_loss: 1.0092\n",
            "Epoch 2/10\n",
            "\u001b[1m40/40\u001b[0m \u001b[32m━━━━━━━━━━━━━━━━━━━━\u001b[0m\u001b[37m\u001b[0m \u001b[1m16s\u001b[0m 298ms/step - accuracy: 0.5544 - loss: 1.0078 - val_accuracy: 0.5615 - val_loss: 1.0068\n",
            "Epoch 3/10\n",
            "\u001b[1m40/40\u001b[0m \u001b[32m━━━━━━━━━━━━━━━━━━━━\u001b[0m\u001b[37m\u001b[0m \u001b[1m14s\u001b[0m 297ms/step - accuracy: 0.5530 - loss: 0.9926 - val_accuracy: 0.5615 - val_loss: 0.9880\n",
            "Epoch 4/10\n",
            "\u001b[1m40/40\u001b[0m \u001b[32m━━━━━━━━━━━━━━━━━━━━\u001b[0m\u001b[37m\u001b[0m \u001b[1m14s\u001b[0m 305ms/step - accuracy: 0.5688 - loss: 0.9638 - val_accuracy: 0.5615 - val_loss: 0.9762\n",
            "Epoch 5/10\n",
            "\u001b[1m40/40\u001b[0m \u001b[32m━━━━━━━━━━━━━━━━━━━━\u001b[0m\u001b[37m\u001b[0m \u001b[1m17s\u001b[0m 378ms/step - accuracy: 0.5658 - loss: 0.9722 - val_accuracy: 0.5615 - val_loss: 0.9689\n",
            "Epoch 6/10\n",
            "\u001b[1m40/40\u001b[0m \u001b[32m━━━━━━━━━━━━━━━━━━━━\u001b[0m\u001b[37m\u001b[0m \u001b[1m20s\u001b[0m 359ms/step - accuracy: 0.5640 - loss: 0.9567 - val_accuracy: 0.5615 - val_loss: 0.9618\n",
            "Epoch 7/10\n",
            "\u001b[1m40/40\u001b[0m \u001b[32m━━━━━━━━━━━━━━━━━━━━\u001b[0m\u001b[37m\u001b[0m \u001b[1m16s\u001b[0m 368ms/step - accuracy: 0.5755 - loss: 0.9402 - val_accuracy: 0.5615 - val_loss: 0.9582\n",
            "Epoch 8/10\n",
            "\u001b[1m40/40\u001b[0m \u001b[32m━━━━━━━━━━━━━━━━━━━━\u001b[0m\u001b[37m\u001b[0m \u001b[1m14s\u001b[0m 308ms/step - accuracy: 0.5541 - loss: 0.9536 - val_accuracy: 0.5615 - val_loss: 0.9523\n",
            "Epoch 9/10\n",
            "\u001b[1m40/40\u001b[0m \u001b[32m━━━━━━━━━━━━━━━━━━━━\u001b[0m\u001b[37m\u001b[0m \u001b[1m20s\u001b[0m 289ms/step - accuracy: 0.5527 - loss: 0.9507 - val_accuracy: 0.5615 - val_loss: 0.9477\n",
            "Epoch 10/10\n",
            "\u001b[1m40/40\u001b[0m \u001b[32m━━━━━━━━━━━━━━━━━━━━\u001b[0m\u001b[37m\u001b[0m \u001b[1m22s\u001b[0m 324ms/step - accuracy: 0.5493 - loss: 0.9481 - val_accuracy: 0.5615 - val_loss: 0.9332\n",
            "\u001b[1m10/10\u001b[0m \u001b[32m━━━━━━━━━━━━━━━━━━━━\u001b[0m\u001b[37m\u001b[0m \u001b[1m3s\u001b[0m 269ms/step - accuracy: 0.6083 - loss: 0.9084\n",
            "GoogLeNet Test accuracy: 0.5615141987800598\n",
            "\n",
            "Training ShuffleNet...\n",
            "Epoch 1/10\n",
            "\u001b[1m40/40\u001b[0m \u001b[32m━━━━━━━━━━━━━━━━━━━━\u001b[0m\u001b[37m\u001b[0m \u001b[1m68s\u001b[0m 948ms/step - accuracy: 0.5568 - loss: 0.9206 - val_accuracy: 0.1735 - val_loss: 1.2141\n",
            "Epoch 2/10\n",
            "\u001b[1m40/40\u001b[0m \u001b[32m━━━━━━━━━━━━━━━━━━━━\u001b[0m\u001b[37m\u001b[0m \u001b[1m41s\u001b[0m 331ms/step - accuracy: 0.6852 - loss: 0.7461 - val_accuracy: 0.1735 - val_loss: 1.6463\n",
            "Epoch 3/10\n",
            "\u001b[1m40/40\u001b[0m \u001b[32m━━━━━━━━━━━━━━━━━━━━\u001b[0m\u001b[37m\u001b[0m \u001b[1m23s\u001b[0m 371ms/step - accuracy: 0.7537 - loss: 0.5725 - val_accuracy: 0.1735 - val_loss: 1.9624\n",
            "Epoch 4/10\n",
            "\u001b[1m40/40\u001b[0m \u001b[32m━━━━━━━━━━━━━━━━━━━━\u001b[0m\u001b[37m\u001b[0m \u001b[1m15s\u001b[0m 321ms/step - accuracy: 0.7689 - loss: 0.5553 - val_accuracy: 0.1735 - val_loss: 2.1603\n",
            "Epoch 5/10\n",
            "\u001b[1m40/40\u001b[0m \u001b[32m━━━━━━━━━━━━━━━━━━━━\u001b[0m\u001b[37m\u001b[0m \u001b[1m15s\u001b[0m 320ms/step - accuracy: 0.7987 - loss: 0.4555 - val_accuracy: 0.1735 - val_loss: 2.2090\n",
            "Epoch 6/10\n",
            "\u001b[1m40/40\u001b[0m \u001b[32m━━━━━━━━━━━━━━━━━━━━\u001b[0m\u001b[37m\u001b[0m \u001b[1m22s\u001b[0m 359ms/step - accuracy: 0.8268 - loss: 0.4321 - val_accuracy: 0.1735 - val_loss: 2.0506\n",
            "Epoch 7/10\n",
            "\u001b[1m40/40\u001b[0m \u001b[32m━━━━━━━━━━━━━━━━━━━━\u001b[0m\u001b[37m\u001b[0m \u001b[1m15s\u001b[0m 320ms/step - accuracy: 0.8698 - loss: 0.3510 - val_accuracy: 0.1735 - val_loss: 2.4292\n",
            "Epoch 8/10\n",
            "\u001b[1m40/40\u001b[0m \u001b[32m━━━━━━━━━━━━━━━━━━━━\u001b[0m\u001b[37m\u001b[0m \u001b[1m15s\u001b[0m 325ms/step - accuracy: 0.8822 - loss: 0.3114 - val_accuracy: 0.1735 - val_loss: 2.7157\n",
            "Epoch 9/10\n",
            "\u001b[1m40/40\u001b[0m \u001b[32m━━━━━━━━━━━━━━━━━━━━\u001b[0m\u001b[37m\u001b[0m \u001b[1m17s\u001b[0m 366ms/step - accuracy: 0.8918 - loss: 0.2953 - val_accuracy: 0.1735 - val_loss: 2.9316\n",
            "Epoch 10/10\n",
            "\u001b[1m40/40\u001b[0m \u001b[32m━━━━━━━━━━━━━━━━━━━━\u001b[0m\u001b[37m\u001b[0m \u001b[1m15s\u001b[0m 328ms/step - accuracy: 0.8911 - loss: 0.3131 - val_accuracy: 0.1735 - val_loss: 3.1440\n",
            "\u001b[1m10/10\u001b[0m \u001b[32m━━━━━━━━━━━━━━━━━━━━\u001b[0m\u001b[37m\u001b[0m \u001b[1m3s\u001b[0m 275ms/step - accuracy: 0.1330 - loss: 3.3209\n",
            "ShuffleNet Test accuracy: 0.17350158095359802\n",
            "\n",
            "Training ResNet-50...\n",
            "Epoch 1/10\n",
            "\u001b[1m40/40\u001b[0m \u001b[32m━━━━━━━━━━━━━━━━━━━━\u001b[0m\u001b[37m\u001b[0m \u001b[1m117s\u001b[0m 1s/step - accuracy: 0.5358 - loss: 2.3794 - val_accuracy: 0.1735 - val_loss: 3.0966\n",
            "Epoch 2/10\n",
            "\u001b[1m40/40\u001b[0m \u001b[32m━━━━━━━━━━━━━━━━━━━━\u001b[0m\u001b[37m\u001b[0m \u001b[1m20s\u001b[0m 441ms/step - accuracy: 0.6887 - loss: 0.6809 - val_accuracy: 0.1735 - val_loss: 4.1320\n",
            "Epoch 3/10\n",
            "\u001b[1m40/40\u001b[0m \u001b[32m━━━━━━━━━━━━━━━━━━━━\u001b[0m\u001b[37m\u001b[0m \u001b[1m22s\u001b[0m 471ms/step - accuracy: 0.7269 - loss: 0.6341 - val_accuracy: 0.1735 - val_loss: 2.8012\n",
            "Epoch 4/10\n",
            "\u001b[1m40/40\u001b[0m \u001b[32m━━━━━━━━━━━━━━━━━━━━\u001b[0m\u001b[37m\u001b[0m \u001b[1m18s\u001b[0m 389ms/step - accuracy: 0.7594 - loss: 0.5456 - val_accuracy: 0.2366 - val_loss: 2.3336\n",
            "Epoch 5/10\n",
            "\u001b[1m40/40\u001b[0m \u001b[32m━━━━━━━━━━━━━━━━━━━━\u001b[0m\u001b[37m\u001b[0m \u001b[1m21s\u001b[0m 407ms/step - accuracy: 0.7070 - loss: 0.6403 - val_accuracy: 0.2650 - val_loss: 1.5532\n",
            "Epoch 6/10\n",
            "\u001b[1m40/40\u001b[0m \u001b[32m━━━━━━━━━━━━━━━━━━━━\u001b[0m\u001b[37m\u001b[0m \u001b[1m18s\u001b[0m 396ms/step - accuracy: 0.7778 - loss: 0.5407 - val_accuracy: 0.2650 - val_loss: 1.9671\n",
            "Epoch 7/10\n",
            "\u001b[1m40/40\u001b[0m \u001b[32m━━━━━━━━━━━━━━━━━━━━\u001b[0m\u001b[37m\u001b[0m \u001b[1m20s\u001b[0m 409ms/step - accuracy: 0.7280 - loss: 0.6780 - val_accuracy: 0.2808 - val_loss: 3.7527\n",
            "Epoch 8/10\n",
            "\u001b[1m40/40\u001b[0m \u001b[32m━━━━━━━━━━━━━━━━━━━━\u001b[0m\u001b[37m\u001b[0m \u001b[1m18s\u001b[0m 408ms/step - accuracy: 0.7561 - loss: 0.5838 - val_accuracy: 0.1861 - val_loss: 4.2426\n",
            "Epoch 9/10\n",
            "\u001b[1m40/40\u001b[0m \u001b[32m━━━━━━━━━━━━━━━━━━━━\u001b[0m\u001b[37m\u001b[0m \u001b[1m18s\u001b[0m 388ms/step - accuracy: 0.7540 - loss: 0.5760 - val_accuracy: 0.3091 - val_loss: 1.8796\n",
            "Epoch 10/10\n",
            "\u001b[1m40/40\u001b[0m \u001b[32m━━━━━━━━━━━━━━━━━━━━\u001b[0m\u001b[37m\u001b[0m \u001b[1m20s\u001b[0m 405ms/step - accuracy: 0.8238 - loss: 0.4236 - val_accuracy: 0.2177 - val_loss: 2.5173\n",
            "\u001b[1m10/10\u001b[0m \u001b[32m━━━━━━━━━━━━━━━━━━━━\u001b[0m\u001b[37m\u001b[0m \u001b[1m3s\u001b[0m 295ms/step - accuracy: 0.2099 - loss: 2.5071\n",
            "ResNet-50 Test accuracy: 0.21766561269760132\n",
            "\n",
            "Training SqueezeNet...\n",
            "Epoch 1/10\n",
            "\u001b[1m40/40\u001b[0m \u001b[32m━━━━━━━━━━━━━━━━━━━━\u001b[0m\u001b[37m\u001b[0m \u001b[1m92s\u001b[0m 1s/step - accuracy: 0.5764 - loss: 1.0177 - val_accuracy: 0.2650 - val_loss: 1.0933\n",
            "Epoch 2/10\n",
            "\u001b[1m40/40\u001b[0m \u001b[32m━━━━━━━━━━━━━━━━━━━━\u001b[0m\u001b[37m\u001b[0m \u001b[1m15s\u001b[0m 330ms/step - accuracy: 0.6903 - loss: 0.6877 - val_accuracy: 0.2650 - val_loss: 1.0839\n",
            "Epoch 3/10\n",
            "\u001b[1m40/40\u001b[0m \u001b[32m━━━━━━━━━━━━━━━━━━━━\u001b[0m\u001b[37m\u001b[0m \u001b[1m17s\u001b[0m 384ms/step - accuracy: 0.7815 - loss: 0.5524 - val_accuracy: 0.2650 - val_loss: 1.0848\n",
            "Epoch 4/10\n",
            "\u001b[1m40/40\u001b[0m \u001b[32m━━━━━━━━━━━━━━━━━━━━\u001b[0m\u001b[37m\u001b[0m \u001b[1m15s\u001b[0m 331ms/step - accuracy: 0.7719 - loss: 0.5010 - val_accuracy: 0.2650 - val_loss: 1.1058\n",
            "Epoch 5/10\n",
            "\u001b[1m40/40\u001b[0m \u001b[32m━━━━━━━━━━━━━━━━━━━━\u001b[0m\u001b[37m\u001b[0m \u001b[1m21s\u001b[0m 332ms/step - accuracy: 0.8097 - loss: 0.4670 - val_accuracy: 0.2650 - val_loss: 1.1166\n",
            "Epoch 6/10\n",
            "\u001b[1m40/40\u001b[0m \u001b[32m━━━━━━━━━━━━━━━━━━━━\u001b[0m\u001b[37m\u001b[0m \u001b[1m15s\u001b[0m 333ms/step - accuracy: 0.7872 - loss: 0.4610 - val_accuracy: 0.2650 - val_loss: 1.1053\n",
            "Epoch 7/10\n",
            "\u001b[1m40/40\u001b[0m \u001b[32m━━━━━━━━━━━━━━━━━━━━\u001b[0m\u001b[37m\u001b[0m \u001b[1m18s\u001b[0m 390ms/step - accuracy: 0.7897 - loss: 0.4795 - val_accuracy: 0.2650 - val_loss: 1.1382\n",
            "Epoch 8/10\n",
            "\u001b[1m40/40\u001b[0m \u001b[32m━━━━━━━━━━━━━━━━━━━━\u001b[0m\u001b[37m\u001b[0m \u001b[1m18s\u001b[0m 339ms/step - accuracy: 0.8541 - loss: 0.3570 - val_accuracy: 0.2650 - val_loss: 1.1438\n",
            "Epoch 9/10\n",
            "\u001b[1m40/40\u001b[0m \u001b[32m━━━━━━━━━━━━━━━━━━━━\u001b[0m\u001b[37m\u001b[0m \u001b[1m18s\u001b[0m 405ms/step - accuracy: 0.8475 - loss: 0.3800 - val_accuracy: 0.2650 - val_loss: 1.1587\n",
            "Epoch 10/10\n",
            "\u001b[1m40/40\u001b[0m \u001b[32m━━━━━━━━━━━━━━━━━━━━\u001b[0m\u001b[37m\u001b[0m \u001b[1m15s\u001b[0m 342ms/step - accuracy: 0.8939 - loss: 0.2996 - val_accuracy: 0.2650 - val_loss: 1.2648\n",
            "\u001b[1m10/10\u001b[0m \u001b[32m━━━━━━━━━━━━━━━━━━━━\u001b[0m\u001b[37m\u001b[0m \u001b[1m4s\u001b[0m 359ms/step - accuracy: 0.2452 - loss: 1.2814\n",
            "SqueezeNet Test accuracy: 0.26498422026634216\n",
            "\n",
            "Training ResNet-101...\n",
            "Epoch 1/10\n",
            "\u001b[1m40/40\u001b[0m \u001b[32m━━━━━━━━━━━━━━━━━━━━\u001b[0m\u001b[37m\u001b[0m \u001b[1m181s\u001b[0m 2s/step - accuracy: 0.5597 - loss: 1.9671 - val_accuracy: 0.1735 - val_loss: 1.7927\n",
            "Epoch 2/10\n",
            "\u001b[1m40/40\u001b[0m \u001b[32m━━━━━━━━━━━━━━━━━━━━\u001b[0m\u001b[37m\u001b[0m \u001b[1m49s\u001b[0m 595ms/step - accuracy: 0.7117 - loss: 0.7253 - val_accuracy: 0.1735 - val_loss: 2.9979\n",
            "Epoch 3/10\n",
            "\u001b[1m40/40\u001b[0m \u001b[32m━━━━━━━━━━━━━━━━━━━━\u001b[0m\u001b[37m\u001b[0m \u001b[1m42s\u001b[0m 630ms/step - accuracy: 0.7331 - loss: 0.6566 - val_accuracy: 0.1735 - val_loss: 2.6546\n",
            "Epoch 4/10\n",
            "\u001b[1m40/40\u001b[0m \u001b[32m━━━━━━━━━━━━━━━━━━━━\u001b[0m\u001b[37m\u001b[0m \u001b[1m27s\u001b[0m 640ms/step - accuracy: 0.7317 - loss: 0.6418 - val_accuracy: 0.1735 - val_loss: 1.9022\n",
            "Epoch 5/10\n",
            "\u001b[1m40/40\u001b[0m \u001b[32m━━━━━━━━━━━━━━━━━━━━\u001b[0m\u001b[37m\u001b[0m \u001b[1m27s\u001b[0m 628ms/step - accuracy: 0.7356 - loss: 0.6331 - val_accuracy: 0.1735 - val_loss: 2.2652\n",
            "Epoch 6/10\n",
            "\u001b[1m40/40\u001b[0m \u001b[32m━━━━━━━━━━━━━━━━━━━━\u001b[0m\u001b[37m\u001b[0m \u001b[1m40s\u001b[0m 601ms/step - accuracy: 0.7584 - loss: 0.5871 - val_accuracy: 0.2650 - val_loss: 2.5515\n",
            "Epoch 7/10\n",
            "\u001b[1m40/40\u001b[0m \u001b[32m━━━━━━━━━━━━━━━━━━━━\u001b[0m\u001b[37m\u001b[0m \u001b[1m26s\u001b[0m 600ms/step - accuracy: 0.7469 - loss: 0.6288 - val_accuracy: 0.2650 - val_loss: 2.0497\n",
            "Epoch 8/10\n",
            "\u001b[1m40/40\u001b[0m \u001b[32m━━━━━━━━━━━━━━━━━━━━\u001b[0m\u001b[37m\u001b[0m \u001b[1m26s\u001b[0m 578ms/step - accuracy: 0.7644 - loss: 0.5479 - val_accuracy: 0.2650 - val_loss: 1.9980\n",
            "Epoch 9/10\n",
            "\u001b[1m40/40\u001b[0m \u001b[32m━━━━━━━━━━━━━━━━━━━━\u001b[0m\u001b[37m\u001b[0m \u001b[1m41s\u001b[0m 576ms/step - accuracy: 0.7781 - loss: 0.5350 - val_accuracy: 0.2461 - val_loss: 2.6856\n",
            "Epoch 10/10\n",
            "\u001b[1m40/40\u001b[0m \u001b[32m━━━━━━━━━━━━━━━━━━━━\u001b[0m\u001b[37m\u001b[0m \u001b[1m41s\u001b[0m 584ms/step - accuracy: 0.8044 - loss: 0.4847 - val_accuracy: 0.2082 - val_loss: 1.9925\n",
            "\u001b[1m10/10\u001b[0m \u001b[32m━━━━━━━━━━━━━━━━━━━━\u001b[0m\u001b[37m\u001b[0m \u001b[1m4s\u001b[0m 383ms/step - accuracy: 0.2080 - loss: 2.0043\n",
            "ResNet-101 Test accuracy: 0.20820190012454987\n",
            "\n",
            "Training XceptionNet...\n",
            "Epoch 1/10\n",
            "\u001b[1m40/40\u001b[0m \u001b[32m━━━━━━━━━━━━━━━━━━━━\u001b[0m\u001b[37m\u001b[0m \u001b[1m130s\u001b[0m 2s/step - accuracy: 0.5610 - loss: 1.1581 - val_accuracy: 0.5615 - val_loss: 1.0823\n",
            "Epoch 2/10\n",
            "\u001b[1m40/40\u001b[0m \u001b[32m━━━━━━━━━━━━━━━━━━━━\u001b[0m\u001b[37m\u001b[0m \u001b[1m58s\u001b[0m 550ms/step - accuracy: 0.7035 - loss: 0.6403 - val_accuracy: 0.5615 - val_loss: 1.0864\n",
            "Epoch 3/10\n",
            "\u001b[1m40/40\u001b[0m \u001b[32m━━━━━━━━━━━━━━━━━━━━\u001b[0m\u001b[37m\u001b[0m \u001b[1m41s\u001b[0m 543ms/step - accuracy: 0.7594 - loss: 0.5674 - val_accuracy: 0.2650 - val_loss: 1.0915\n",
            "Epoch 4/10\n",
            "\u001b[1m40/40\u001b[0m \u001b[32m━━━━━━━━━━━━━━━━━━━━\u001b[0m\u001b[37m\u001b[0m \u001b[1m26s\u001b[0m 589ms/step - accuracy: 0.7963 - loss: 0.4649 - val_accuracy: 0.2650 - val_loss: 1.0973\n",
            "Epoch 5/10\n",
            "\u001b[1m40/40\u001b[0m \u001b[32m━━━━━━━━━━━━━━━━━━━━\u001b[0m\u001b[37m\u001b[0m \u001b[1m23s\u001b[0m 532ms/step - accuracy: 0.8092 - loss: 0.4478 - val_accuracy: 0.2650 - val_loss: 1.1018\n",
            "Epoch 6/10\n",
            "\u001b[1m40/40\u001b[0m \u001b[32m━━━━━━━━━━━━━━━━━━━━\u001b[0m\u001b[37m\u001b[0m \u001b[1m41s\u001b[0m 538ms/step - accuracy: 0.8557 - loss: 0.3693 - val_accuracy: 0.2366 - val_loss: 1.1167\n",
            "Epoch 7/10\n",
            "\u001b[1m40/40\u001b[0m \u001b[32m━━━━━━━━━━━━━━━━━━━━\u001b[0m\u001b[37m\u001b[0m \u001b[1m42s\u001b[0m 556ms/step - accuracy: 0.8662 - loss: 0.3518 - val_accuracy: 0.2650 - val_loss: 1.1294\n",
            "Epoch 8/10\n",
            "\u001b[1m40/40\u001b[0m \u001b[32m━━━━━━━━━━━━━━━━━━━━\u001b[0m\u001b[37m\u001b[0m \u001b[1m23s\u001b[0m 530ms/step - accuracy: 0.8781 - loss: 0.3116 - val_accuracy: 0.2650 - val_loss: 1.2560\n",
            "Epoch 9/10\n",
            "\u001b[1m40/40\u001b[0m \u001b[32m━━━━━━━━━━━━━━━━━━━━\u001b[0m\u001b[37m\u001b[0m \u001b[1m40s\u001b[0m 523ms/step - accuracy: 0.8776 - loss: 0.3588 - val_accuracy: 0.2650 - val_loss: 1.2460\n",
            "Epoch 10/10\n",
            "\u001b[1m40/40\u001b[0m \u001b[32m━━━━━━━━━━━━━━━━━━━━\u001b[0m\u001b[37m\u001b[0m \u001b[1m24s\u001b[0m 538ms/step - accuracy: 0.9313 - loss: 0.1764 - val_accuracy: 0.2650 - val_loss: 1.3450\n",
            "\u001b[1m10/10\u001b[0m \u001b[32m━━━━━━━━━━━━━━━━━━━━\u001b[0m\u001b[37m\u001b[0m \u001b[1m4s\u001b[0m 366ms/step - accuracy: 0.2574 - loss: 1.3620\n",
            "XceptionNet Test accuracy: 0.26498422026634216\n",
            "\n"
          ]
        }
      ]
    }
  ]
}